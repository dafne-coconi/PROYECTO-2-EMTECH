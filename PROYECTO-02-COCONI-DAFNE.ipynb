{
 "cells": [
  {
   "cell_type": "code",
   "execution_count": 2,
   "id": "b0d82d9d",
   "metadata": {},
   "outputs": [],
   "source": [
    "import pandas as pd\n",
    "import seaborn as sns\n",
    "\n",
    "fileName = 'synergy_logistics_database.csv'\n",
    "# Crear el dataframe\n",
    "synergyDF = pd.read_csv(fileName, index_col=\"register_id\")\n",
    "# DataFrame con las columnas a usar\n",
    "nuevoDF_1 = synergyDF[[\"direction\", \"origin\", \"destination\", \"transport_mode\", \"total_value\"]]\n",
    "nuevoDF_2 = synergyDF[[\"direction\", \"origin\", \"destination\", \"year\", \"product\", \"transport_mode\", \"company_name\", \"total_value\"]]"
   ]
  },
  {
   "cell_type": "markdown",
   "id": "a9f26b29",
   "metadata": {},
   "source": [
    "# Rutas de importación y exportación"
   ]
  },
  {
   "cell_type": "code",
   "execution_count": 3,
   "id": "e7e90c16",
   "metadata": {},
   "outputs": [],
   "source": [
    "agrupados = nuevoDF_1.groupby([\"direction\", \"origin\", \"destination\", \"transport_mode\"]).count()\n",
    "\n",
    "# Ordenar de mayor a menor\n",
    "agrupados = agrupados.rename(columns={'total_value': 'count'})\n",
    "agrupados = agrupados.sort_values(by=['count'], ascending=False)"
   ]
  },
  {
   "cell_type": "code",
   "execution_count": 4,
   "id": "42d87176",
   "metadata": {},
   "outputs": [],
   "source": [
    "# Se filtra exportaciones e importaciones\n",
    "agrupadosExp = agrupados.xs('Exports')\n",
    "agrupadosImp = agrupados.xs('Imports')\n",
    "\n",
    "# Se agrega nombre al DF\n",
    "agrupadosExp['name'] = agrupadosExp.index.to_list()\n",
    "agrupadosImp['name'] = agrupadosImp.index.to_list()\n",
    "agrupados['name'] = agrupados.index.to_list()"
   ]
  },
  {
   "cell_type": "code",
   "execution_count": 7,
   "id": "1064eaa0",
   "metadata": {},
   "outputs": [],
   "source": [
    "# Cambio el nombre para mostrar el origen, destino y transporte\n",
    "def cambio_nombre(text,n):\n",
    "    nombre = f'{text[n]}/{text[n+1]}\\n{text[n+2]}'\n",
    "    return nombre\n",
    "\n",
    "agrupadosExp['name'] = agrupadosExp['name'].apply(cambio_nombre,args=(0,))\n",
    "agrupadosImp['name'] = agrupadosImp['name'].apply(cambio_nombre, args=(0,))\n",
    "agrupados['name'] = agrupados['name'].apply(cambio_nombre, args=(1,))"
   ]
  },
  {
   "cell_type": "code",
   "execution_count": 10,
   "id": "acdf4510",
   "metadata": {},
   "outputs": [],
   "source": [
    "# Función para cambiar el contenido de la columna\n",
    "def medio_transp(text,n):\n",
    "    return text[n]"
   ]
  },
  {
   "cell_type": "code",
   "execution_count": null,
   "id": "0b44e4d8",
   "metadata": {},
   "outputs": [],
   "source": [
    "# Nueva columna, con el medio de transporte\n",
    "agrupadosExp['medio'] = agrupadosExp.index.to_list()\n",
    "agrupadosImp['medio'] = agrupadosImp.index.to_list()\n",
    "agrupados['medio'] = agrupados.index.to_list()\n",
    "\n",
    "# Aplicamos la transformación\n",
    "agrupadosExp['medio'] = agrupadosExp['medio'].apply(medio_transp,args=(2,))\n",
    "agrupadosImp['medio'] = agrupadosImp['medio'].apply(medio_transp,args=(2,))\n",
    "agrupados['medio'] = agrupados['medio'].apply(medio_transp,args=(3,))"
   ]
  },
  {
   "cell_type": "markdown",
   "id": "86b36cbc",
   "metadata": {},
   "source": [
    "## Rutas más exploradas\n",
    "Se muestra en la siguiente tabla las 10 rutas más exploradas"
   ]
  },
  {
   "cell_type": "code",
   "execution_count": 8,
   "id": "21e7af2d",
   "metadata": {},
   "outputs": [
    {
     "data": {
      "text/html": [
       "<div>\n",
       "<style scoped>\n",
       "    .dataframe tbody tr th:only-of-type {\n",
       "        vertical-align: middle;\n",
       "    }\n",
       "\n",
       "    .dataframe tbody tr th {\n",
       "        vertical-align: top;\n",
       "    }\n",
       "\n",
       "    .dataframe thead th {\n",
       "        text-align: right;\n",
       "    }\n",
       "</style>\n",
       "<table border=\"1\" class=\"dataframe\">\n",
       "  <thead>\n",
       "    <tr style=\"text-align: right;\">\n",
       "      <th></th>\n",
       "      <th></th>\n",
       "      <th></th>\n",
       "      <th></th>\n",
       "      <th>count</th>\n",
       "      <th>name</th>\n",
       "    </tr>\n",
       "    <tr>\n",
       "      <th>direction</th>\n",
       "      <th>origin</th>\n",
       "      <th>destination</th>\n",
       "      <th>transport_mode</th>\n",
       "      <th></th>\n",
       "      <th></th>\n",
       "    </tr>\n",
       "  </thead>\n",
       "  <tbody>\n",
       "    <tr>\n",
       "      <th rowspan=\"7\" valign=\"top\">Exports</th>\n",
       "      <th>South Korea</th>\n",
       "      <th>Vietnam</th>\n",
       "      <th>Sea</th>\n",
       "      <td>497</td>\n",
       "      <td>South Korea/Vietnam\\nSea</td>\n",
       "    </tr>\n",
       "    <tr>\n",
       "      <th>USA</th>\n",
       "      <th>Netherlands</th>\n",
       "      <th>Sea</th>\n",
       "      <td>436</td>\n",
       "      <td>USA/Netherlands\\nSea</td>\n",
       "    </tr>\n",
       "    <tr>\n",
       "      <th>Netherlands</th>\n",
       "      <th>Belgium</th>\n",
       "      <th>Road</th>\n",
       "      <td>374</td>\n",
       "      <td>Netherlands/Belgium\\nRoad</td>\n",
       "    </tr>\n",
       "    <tr>\n",
       "      <th>China</th>\n",
       "      <th>Mexico</th>\n",
       "      <th>Air</th>\n",
       "      <td>330</td>\n",
       "      <td>China/Mexico\\nAir</td>\n",
       "    </tr>\n",
       "    <tr>\n",
       "      <th>Japan</th>\n",
       "      <th>Brazil</th>\n",
       "      <th>Sea</th>\n",
       "      <td>306</td>\n",
       "      <td>Japan/Brazil\\nSea</td>\n",
       "    </tr>\n",
       "    <tr>\n",
       "      <th>Germany</th>\n",
       "      <th>France</th>\n",
       "      <th>Road</th>\n",
       "      <td>299</td>\n",
       "      <td>Germany/France\\nRoad</td>\n",
       "    </tr>\n",
       "    <tr>\n",
       "      <th>South Korea</th>\n",
       "      <th>Japan</th>\n",
       "      <th>Sea</th>\n",
       "      <td>279</td>\n",
       "      <td>South Korea/Japan\\nSea</td>\n",
       "    </tr>\n",
       "    <tr>\n",
       "      <th>Imports</th>\n",
       "      <th>Singapore</th>\n",
       "      <th>Thailand</th>\n",
       "      <th>Sea</th>\n",
       "      <td>273</td>\n",
       "      <td>Singapore/Thailand\\nSea</td>\n",
       "    </tr>\n",
       "    <tr>\n",
       "      <th rowspan=\"2\" valign=\"top\">Exports</th>\n",
       "      <th>Australia</th>\n",
       "      <th>Singapore</th>\n",
       "      <th>Sea</th>\n",
       "      <td>273</td>\n",
       "      <td>Australia/Singapore\\nSea</td>\n",
       "    </tr>\n",
       "    <tr>\n",
       "      <th>Canada</th>\n",
       "      <th>Mexico</th>\n",
       "      <th>Rail</th>\n",
       "      <td>261</td>\n",
       "      <td>Canada/Mexico\\nRail</td>\n",
       "    </tr>\n",
       "  </tbody>\n",
       "</table>\n",
       "</div>"
      ],
      "text/plain": [
       "                                                  count  \\\n",
       "direction origin      destination transport_mode          \n",
       "Exports   South Korea Vietnam     Sea               497   \n",
       "          USA         Netherlands Sea               436   \n",
       "          Netherlands Belgium     Road              374   \n",
       "          China       Mexico      Air               330   \n",
       "          Japan       Brazil      Sea               306   \n",
       "          Germany     France      Road              299   \n",
       "          South Korea Japan       Sea               279   \n",
       "Imports   Singapore   Thailand    Sea               273   \n",
       "Exports   Australia   Singapore   Sea               273   \n",
       "          Canada      Mexico      Rail              261   \n",
       "\n",
       "                                                                       name  \n",
       "direction origin      destination transport_mode                             \n",
       "Exports   South Korea Vietnam     Sea              South Korea/Vietnam\\nSea  \n",
       "          USA         Netherlands Sea                  USA/Netherlands\\nSea  \n",
       "          Netherlands Belgium     Road            Netherlands/Belgium\\nRoad  \n",
       "          China       Mexico      Air                     China/Mexico\\nAir  \n",
       "          Japan       Brazil      Sea                     Japan/Brazil\\nSea  \n",
       "          Germany     France      Road                 Germany/France\\nRoad  \n",
       "          South Korea Japan       Sea                South Korea/Japan\\nSea  \n",
       "Imports   Singapore   Thailand    Sea               Singapore/Thailand\\nSea  \n",
       "Exports   Australia   Singapore   Sea              Australia/Singapore\\nSea  \n",
       "          Canada      Mexico      Rail                  Canada/Mexico\\nRail  "
      ]
     },
     "execution_count": 8,
     "metadata": {},
     "output_type": "execute_result"
    }
   ],
   "source": [
    "agrupados.head(10)"
   ]
  },
  {
   "cell_type": "code",
   "execution_count": 19,
   "id": "88c64398",
   "metadata": {},
   "outputs": [
    {
     "data": {
      "text/plain": [
       "<AxesSubplot:xlabel='name', ylabel='count'>"
      ]
     },
     "execution_count": 19,
     "metadata": {},
     "output_type": "execute_result"
    },
    {
     "data": {
      "image/png": "[encoded data removed]",
      "text/plain": [
       "<Figure size 1296x432 with 1 Axes>"
      ]
     },
     "metadata": {},
     "output_type": "display_data"
    }
   ],
   "source": [
    "# Graficamos para rutas más exploradas\n",
    "sns.set(rc={\"figure.figsize\": (18, 6)}) \n",
    "sns.barplot(data=agrupados.head(10), x='name', y='count', hue='medio')"
   ]
  },
  {
   "cell_type": "markdown",
   "id": "750bdb38",
   "metadata": {},
   "source": [
    "## Rutas más exploradas por exportación\n",
    "En la Tabla 2 se muestra las rutas más exploradas en exportación y posteriormente una gráfica"
   ]
  },
  {
   "cell_type": "code",
   "execution_count": 9,
   "id": "40d10243",
   "metadata": {},
   "outputs": [
    {
     "data": {
      "text/html": [
       "<div>\n",
       "<style scoped>\n",
       "    .dataframe tbody tr th:only-of-type {\n",
       "        vertical-align: middle;\n",
       "    }\n",
       "\n",
       "    .dataframe tbody tr th {\n",
       "        vertical-align: top;\n",
       "    }\n",
       "\n",
       "    .dataframe thead th {\n",
       "        text-align: right;\n",
       "    }\n",
       "</style>\n",
       "<table border=\"1\" class=\"dataframe\">\n",
       "  <thead>\n",
       "    <tr style=\"text-align: right;\">\n",
       "      <th></th>\n",
       "      <th></th>\n",
       "      <th></th>\n",
       "      <th>count</th>\n",
       "      <th>name</th>\n",
       "    </tr>\n",
       "    <tr>\n",
       "      <th>origin</th>\n",
       "      <th>destination</th>\n",
       "      <th>transport_mode</th>\n",
       "      <th></th>\n",
       "      <th></th>\n",
       "    </tr>\n",
       "  </thead>\n",
       "  <tbody>\n",
       "    <tr>\n",
       "      <th>Singapore</th>\n",
       "      <th>Thailand</th>\n",
       "      <th>Sea</th>\n",
       "      <td>273</td>\n",
       "      <td>Singapore/Thailand\\nSea</td>\n",
       "    </tr>\n",
       "    <tr>\n",
       "      <th>Germany</th>\n",
       "      <th>China</th>\n",
       "      <th>Sea</th>\n",
       "      <td>233</td>\n",
       "      <td>Germany/China\\nSea</td>\n",
       "    </tr>\n",
       "    <tr>\n",
       "      <th>China</th>\n",
       "      <th>Japan</th>\n",
       "      <th>Air</th>\n",
       "      <td>210</td>\n",
       "      <td>China/Japan\\nAir</td>\n",
       "    </tr>\n",
       "    <tr>\n",
       "      <th>Japan</th>\n",
       "      <th>Mexico</th>\n",
       "      <th>Sea</th>\n",
       "      <td>206</td>\n",
       "      <td>Japan/Mexico\\nSea</td>\n",
       "    </tr>\n",
       "    <tr>\n",
       "      <th>Malaysia</th>\n",
       "      <th>Thailand</th>\n",
       "      <th>Rail</th>\n",
       "      <td>195</td>\n",
       "      <td>Malaysia/Thailand\\nRail</td>\n",
       "    </tr>\n",
       "    <tr>\n",
       "      <th>China</th>\n",
       "      <th>Thailand</th>\n",
       "      <th>Road</th>\n",
       "      <td>145</td>\n",
       "      <td>China/Thailand\\nRoad</td>\n",
       "    </tr>\n",
       "    <tr>\n",
       "      <th>Spain</th>\n",
       "      <th>Germany</th>\n",
       "      <th>Road</th>\n",
       "      <td>142</td>\n",
       "      <td>Spain/Germany\\nRoad</td>\n",
       "    </tr>\n",
       "    <tr>\n",
       "      <th>China</th>\n",
       "      <th>United Arab Emirates</th>\n",
       "      <th>Sea</th>\n",
       "      <td>114</td>\n",
       "      <td>China/United Arab Emirates\\nSea</td>\n",
       "    </tr>\n",
       "    <tr>\n",
       "      <th>Brazil</th>\n",
       "      <th>China</th>\n",
       "      <th>Sea</th>\n",
       "      <td>113</td>\n",
       "      <td>Brazil/China\\nSea</td>\n",
       "    </tr>\n",
       "    <tr>\n",
       "      <th>USA</th>\n",
       "      <th>Thailand</th>\n",
       "      <th>Sea</th>\n",
       "      <td>109</td>\n",
       "      <td>USA/Thailand\\nSea</td>\n",
       "    </tr>\n",
       "  </tbody>\n",
       "</table>\n",
       "</div>"
      ],
      "text/plain": [
       "                                               count  \\\n",
       "origin    destination          transport_mode          \n",
       "Singapore Thailand             Sea               273   \n",
       "Germany   China                Sea               233   \n",
       "China     Japan                Air               210   \n",
       "Japan     Mexico               Sea               206   \n",
       "Malaysia  Thailand             Rail              195   \n",
       "China     Thailand             Road              145   \n",
       "Spain     Germany              Road              142   \n",
       "China     United Arab Emirates Sea               114   \n",
       "Brazil    China                Sea               113   \n",
       "USA       Thailand             Sea               109   \n",
       "\n",
       "                                                                          name  \n",
       "origin    destination          transport_mode                                   \n",
       "Singapore Thailand             Sea                     Singapore/Thailand\\nSea  \n",
       "Germany   China                Sea                          Germany/China\\nSea  \n",
       "China     Japan                Air                            China/Japan\\nAir  \n",
       "Japan     Mexico               Sea                           Japan/Mexico\\nSea  \n",
       "Malaysia  Thailand             Rail                    Malaysia/Thailand\\nRail  \n",
       "China     Thailand             Road                       China/Thailand\\nRoad  \n",
       "Spain     Germany              Road                        Spain/Germany\\nRoad  \n",
       "China     United Arab Emirates Sea             China/United Arab Emirates\\nSea  \n",
       "Brazil    China                Sea                           Brazil/China\\nSea  \n",
       "USA       Thailand             Sea                           USA/Thailand\\nSea  "
      ]
     },
     "execution_count": 9,
     "metadata": {},
     "output_type": "execute_result"
    }
   ],
   "source": [
    "agrupadosExp.head(10)"
   ]
  },
  {
   "cell_type": "code",
   "execution_count": 11,
   "id": "5dd44db3",
   "metadata": {},
   "outputs": [
    {
     "data": {
      "text/plain": [
       "<AxesSubplot:xlabel='name', ylabel='count'>"
      ]
     },
     "execution_count": 11,
     "metadata": {},
     "output_type": "execute_result"
    },
    {
     "data": {
      "image/png": "[encoded data removed]",
      "text/plain": [
       "<Figure size 1296x432 with 1 Axes>"
      ]
     },
     "metadata": {},
     "output_type": "display_data"
    }
   ],
   "source": [
    "# Graficamos para Exportación\n",
    "sns.set(rc={\"figure.figsize\": (18, 6)})  \n",
    "sns.barplot(data=agrupadosExp.head(10), x='name', y='count', hue='medio')"
   ]
  },
  {
   "cell_type": "markdown",
   "id": "d4066dce",
   "metadata": {},
   "source": [
    "## Rutas más exploradas por importación\n",
    "En la Tabla 3 se muestra las rutas más exploradas por importación y posteriormente una gráfica de estas indicando su medio de transporte por un esquema de colores."
   ]
  },
  {
   "cell_type": "code",
   "execution_count": 14,
   "id": "f09af04f",
   "metadata": {},
   "outputs": [
    {
     "data": {
      "text/html": [
       "<div>\n",
       "<style scoped>\n",
       "    .dataframe tbody tr th:only-of-type {\n",
       "        vertical-align: middle;\n",
       "    }\n",
       "\n",
       "    .dataframe tbody tr th {\n",
       "        vertical-align: top;\n",
       "    }\n",
       "\n",
       "    .dataframe thead th {\n",
       "        text-align: right;\n",
       "    }\n",
       "</style>\n",
       "<table border=\"1\" class=\"dataframe\">\n",
       "  <thead>\n",
       "    <tr style=\"text-align: right;\">\n",
       "      <th></th>\n",
       "      <th></th>\n",
       "      <th></th>\n",
       "      <th>count</th>\n",
       "      <th>name</th>\n",
       "      <th>medio</th>\n",
       "    </tr>\n",
       "    <tr>\n",
       "      <th>origin</th>\n",
       "      <th>destination</th>\n",
       "      <th>transport_mode</th>\n",
       "      <th></th>\n",
       "      <th></th>\n",
       "      <th></th>\n",
       "    </tr>\n",
       "  </thead>\n",
       "  <tbody>\n",
       "    <tr>\n",
       "      <th>Singapore</th>\n",
       "      <th>Thailand</th>\n",
       "      <th>Sea</th>\n",
       "      <td>273</td>\n",
       "      <td>Singapore/Thailand\\nSea</td>\n",
       "      <td>Sea</td>\n",
       "    </tr>\n",
       "    <tr>\n",
       "      <th>Germany</th>\n",
       "      <th>China</th>\n",
       "      <th>Sea</th>\n",
       "      <td>233</td>\n",
       "      <td>Germany/China\\nSea</td>\n",
       "      <td>Sea</td>\n",
       "    </tr>\n",
       "    <tr>\n",
       "      <th>China</th>\n",
       "      <th>Japan</th>\n",
       "      <th>Air</th>\n",
       "      <td>210</td>\n",
       "      <td>China/Japan\\nAir</td>\n",
       "      <td>Air</td>\n",
       "    </tr>\n",
       "    <tr>\n",
       "      <th>Japan</th>\n",
       "      <th>Mexico</th>\n",
       "      <th>Sea</th>\n",
       "      <td>206</td>\n",
       "      <td>Japan/Mexico\\nSea</td>\n",
       "      <td>Sea</td>\n",
       "    </tr>\n",
       "    <tr>\n",
       "      <th>Malaysia</th>\n",
       "      <th>Thailand</th>\n",
       "      <th>Rail</th>\n",
       "      <td>195</td>\n",
       "      <td>Malaysia/Thailand\\nRail</td>\n",
       "      <td>Rail</td>\n",
       "    </tr>\n",
       "    <tr>\n",
       "      <th>China</th>\n",
       "      <th>Thailand</th>\n",
       "      <th>Road</th>\n",
       "      <td>145</td>\n",
       "      <td>China/Thailand\\nRoad</td>\n",
       "      <td>Road</td>\n",
       "    </tr>\n",
       "    <tr>\n",
       "      <th>Spain</th>\n",
       "      <th>Germany</th>\n",
       "      <th>Road</th>\n",
       "      <td>142</td>\n",
       "      <td>Spain/Germany\\nRoad</td>\n",
       "      <td>Road</td>\n",
       "    </tr>\n",
       "    <tr>\n",
       "      <th>China</th>\n",
       "      <th>United Arab Emirates</th>\n",
       "      <th>Sea</th>\n",
       "      <td>114</td>\n",
       "      <td>China/United Arab Emirates\\nSea</td>\n",
       "      <td>Sea</td>\n",
       "    </tr>\n",
       "    <tr>\n",
       "      <th>Brazil</th>\n",
       "      <th>China</th>\n",
       "      <th>Sea</th>\n",
       "      <td>113</td>\n",
       "      <td>Brazil/China\\nSea</td>\n",
       "      <td>Sea</td>\n",
       "    </tr>\n",
       "    <tr>\n",
       "      <th>USA</th>\n",
       "      <th>Thailand</th>\n",
       "      <th>Sea</th>\n",
       "      <td>109</td>\n",
       "      <td>USA/Thailand\\nSea</td>\n",
       "      <td>Sea</td>\n",
       "    </tr>\n",
       "  </tbody>\n",
       "</table>\n",
       "</div>"
      ],
      "text/plain": [
       "                                               count  \\\n",
       "origin    destination          transport_mode          \n",
       "Singapore Thailand             Sea               273   \n",
       "Germany   China                Sea               233   \n",
       "China     Japan                Air               210   \n",
       "Japan     Mexico               Sea               206   \n",
       "Malaysia  Thailand             Rail              195   \n",
       "China     Thailand             Road              145   \n",
       "Spain     Germany              Road              142   \n",
       "China     United Arab Emirates Sea               114   \n",
       "Brazil    China                Sea               113   \n",
       "USA       Thailand             Sea               109   \n",
       "\n",
       "                                                                          name  \\\n",
       "origin    destination          transport_mode                                    \n",
       "Singapore Thailand             Sea                     Singapore/Thailand\\nSea   \n",
       "Germany   China                Sea                          Germany/China\\nSea   \n",
       "China     Japan                Air                            China/Japan\\nAir   \n",
       "Japan     Mexico               Sea                           Japan/Mexico\\nSea   \n",
       "Malaysia  Thailand             Rail                    Malaysia/Thailand\\nRail   \n",
       "China     Thailand             Road                       China/Thailand\\nRoad   \n",
       "Spain     Germany              Road                        Spain/Germany\\nRoad   \n",
       "China     United Arab Emirates Sea             China/United Arab Emirates\\nSea   \n",
       "Brazil    China                Sea                           Brazil/China\\nSea   \n",
       "USA       Thailand             Sea                           USA/Thailand\\nSea   \n",
       "\n",
       "                                              medio  \n",
       "origin    destination          transport_mode        \n",
       "Singapore Thailand             Sea              Sea  \n",
       "Germany   China                Sea              Sea  \n",
       "China     Japan                Air              Air  \n",
       "Japan     Mexico               Sea              Sea  \n",
       "Malaysia  Thailand             Rail            Rail  \n",
       "China     Thailand             Road            Road  \n",
       "Spain     Germany              Road            Road  \n",
       "China     United Arab Emirates Sea              Sea  \n",
       "Brazil    China                Sea              Sea  \n",
       "USA       Thailand             Sea              Sea  "
      ]
     },
     "execution_count": 14,
     "metadata": {},
     "output_type": "execute_result"
    }
   ],
   "source": [
    "agrupadosImp.head(10)"
   ]
  },
  {
   "cell_type": "code",
   "execution_count": 15,
   "id": "17027837",
   "metadata": {},
   "outputs": [
    {
     "data": {
      "text/plain": [
       "<AxesSubplot:xlabel='name', ylabel='count'>"
      ]
     },
     "execution_count": 15,
     "metadata": {},
     "output_type": "execute_result"
    },
    {
     "data": {
      "image/png": "[encoded data removed]",
      "text/plain": [
       "<Figure size 1296x432 with 1 Axes>"
      ]
     },
     "metadata": {},
     "output_type": "display_data"
    }
   ],
   "source": [
    "# Graficamos para Importación\n",
    "sns.set(rc={\"figure.figsize\": (18, 6)})  \n",
    "sns.barplot(data=agrupadosImp.head(10), x='name', y='count', hue='medio')"
   ]
  },
  {
   "cell_type": "markdown",
   "id": "d2dae5fe",
   "metadata": {},
   "source": [
    "# Medio de transporte más usado"
   ]
  },
  {
   "cell_type": "code",
   "execution_count": 65,
   "id": "f527ea12",
   "metadata": {},
   "outputs": [],
   "source": [
    "medio_transporte = nuevoDF_1.groupby(['direction','transport_mode']).count()\n",
    "\n",
    "medio_transporte = medio_transporte.rename(columns={'total_value': 'count'})\n",
    "medio_transporte = medio_transporte.sort_values(by=['count'], ascending=False)"
   ]
  },
  {
   "cell_type": "code",
   "execution_count": 66,
   "id": "7cce3f0d",
   "metadata": {},
   "outputs": [],
   "source": [
    "# Se filtra exportaciones e importaciones\n",
    "medio_transporteExp = medio_transporte.xs('Exports')\n",
    "medio_transporteImp = medio_transporte.xs('Imports')"
   ]
  },
  {
   "cell_type": "markdown",
   "id": "f690b6d0",
   "metadata": {},
   "source": [
    "## Transporte para exportación"
   ]
  },
  {
   "cell_type": "code",
   "execution_count": 67,
   "id": "739a28d4",
   "metadata": {},
   "outputs": [
    {
     "data": {
      "text/html": [
       "<div>\n",
       "<style scoped>\n",
       "    .dataframe tbody tr th:only-of-type {\n",
       "        vertical-align: middle;\n",
       "    }\n",
       "\n",
       "    .dataframe tbody tr th {\n",
       "        vertical-align: top;\n",
       "    }\n",
       "\n",
       "    .dataframe thead th {\n",
       "        text-align: right;\n",
       "    }\n",
       "</style>\n",
       "<table border=\"1\" class=\"dataframe\">\n",
       "  <thead>\n",
       "    <tr style=\"text-align: right;\">\n",
       "      <th></th>\n",
       "      <th>origin</th>\n",
       "      <th>destination</th>\n",
       "      <th>count</th>\n",
       "    </tr>\n",
       "    <tr>\n",
       "      <th>transport_mode</th>\n",
       "      <th></th>\n",
       "      <th></th>\n",
       "      <th></th>\n",
       "    </tr>\n",
       "  </thead>\n",
       "  <tbody>\n",
       "    <tr>\n",
       "      <th>Sea</th>\n",
       "      <td>8434</td>\n",
       "      <td>8434</td>\n",
       "      <td>8434</td>\n",
       "    </tr>\n",
       "    <tr>\n",
       "      <th>Rail</th>\n",
       "      <td>2780</td>\n",
       "      <td>2780</td>\n",
       "      <td>2780</td>\n",
       "    </tr>\n",
       "    <tr>\n",
       "      <th>Road</th>\n",
       "      <td>2149</td>\n",
       "      <td>2149</td>\n",
       "      <td>2149</td>\n",
       "    </tr>\n",
       "    <tr>\n",
       "      <th>Air</th>\n",
       "      <td>2045</td>\n",
       "      <td>2045</td>\n",
       "      <td>2045</td>\n",
       "    </tr>\n",
       "  </tbody>\n",
       "</table>\n",
       "</div>"
      ],
      "text/plain": [
       "                origin  destination  count\n",
       "transport_mode                            \n",
       "Sea               8434         8434   8434\n",
       "Rail              2780         2780   2780\n",
       "Road              2149         2149   2149\n",
       "Air               2045         2045   2045"
      ]
     },
     "execution_count": 67,
     "metadata": {},
     "output_type": "execute_result"
    }
   ],
   "source": [
    "medio_transporteExp"
   ]
  },
  {
   "cell_type": "code",
   "execution_count": 69,
   "id": "ed13291c",
   "metadata": {},
   "outputs": [
    {
     "data": {
      "text/plain": [
       "<AxesSubplot:xlabel='transport_mode', ylabel='count'>"
      ]
     },
     "execution_count": 69,
     "metadata": {},
     "output_type": "execute_result"
    },
    {
     "data": {
      "image/png": "[encoded data removed]",
      "text/plain": [
       "<Figure size 576x432 with 1 Axes>"
      ]
     },
     "metadata": {},
     "output_type": "display_data"
    }
   ],
   "source": [
    "sns.set(rc={\"figure.figsize\": (8, 6)})  #width=8, height=4\n",
    "sns.barplot(data=medio_transporteExp, y='count', x=medio_transporteExp.index)"
   ]
  },
  {
   "cell_type": "markdown",
   "id": "1ba89328",
   "metadata": {},
   "source": [
    "## Transporte para importación"
   ]
  },
  {
   "cell_type": "code",
   "execution_count": 71,
   "id": "a8460208",
   "metadata": {},
   "outputs": [
    {
     "data": {
      "text/html": [
       "<div>\n",
       "<style scoped>\n",
       "    .dataframe tbody tr th:only-of-type {\n",
       "        vertical-align: middle;\n",
       "    }\n",
       "\n",
       "    .dataframe tbody tr th {\n",
       "        vertical-align: top;\n",
       "    }\n",
       "\n",
       "    .dataframe thead th {\n",
       "        text-align: right;\n",
       "    }\n",
       "</style>\n",
       "<table border=\"1\" class=\"dataframe\">\n",
       "  <thead>\n",
       "    <tr style=\"text-align: right;\">\n",
       "      <th></th>\n",
       "      <th>origin</th>\n",
       "      <th>destination</th>\n",
       "      <th>count</th>\n",
       "    </tr>\n",
       "    <tr>\n",
       "      <th>transport_mode</th>\n",
       "      <th></th>\n",
       "      <th></th>\n",
       "      <th></th>\n",
       "    </tr>\n",
       "  </thead>\n",
       "  <tbody>\n",
       "    <tr>\n",
       "      <th>Sea</th>\n",
       "      <td>2254</td>\n",
       "      <td>2254</td>\n",
       "      <td>2254</td>\n",
       "    </tr>\n",
       "    <tr>\n",
       "      <th>Rail</th>\n",
       "      <td>601</td>\n",
       "      <td>601</td>\n",
       "      <td>601</td>\n",
       "    </tr>\n",
       "    <tr>\n",
       "      <th>Road</th>\n",
       "      <td>449</td>\n",
       "      <td>449</td>\n",
       "      <td>449</td>\n",
       "    </tr>\n",
       "    <tr>\n",
       "      <th>Air</th>\n",
       "      <td>344</td>\n",
       "      <td>344</td>\n",
       "      <td>344</td>\n",
       "    </tr>\n",
       "  </tbody>\n",
       "</table>\n",
       "</div>"
      ],
      "text/plain": [
       "                origin  destination  count\n",
       "transport_mode                            \n",
       "Sea               2254         2254   2254\n",
       "Rail               601          601    601\n",
       "Road               449          449    449\n",
       "Air                344          344    344"
      ]
     },
     "execution_count": 71,
     "metadata": {},
     "output_type": "execute_result"
    }
   ],
   "source": [
    "medio_transporteImp"
   ]
  },
  {
   "cell_type": "code",
   "execution_count": 73,
   "id": "bad6b173",
   "metadata": {},
   "outputs": [
    {
     "data": {
      "text/plain": [
       "<AxesSubplot:xlabel='transport_mode', ylabel='count'>"
      ]
     },
     "execution_count": 73,
     "metadata": {},
     "output_type": "execute_result"
    },
    {
     "data": {
      "image/png": "[encoded data removed]",
      "text/plain": [
       "<Figure size 576x432 with 1 Axes>"
      ]
     },
     "metadata": {},
     "output_type": "display_data"
    }
   ],
   "source": [
    "sns.set(rc={\"figure.figsize\": (8, 6)})  #width=8, height=4\n",
    "sns.barplot(data=medio_transporteImp, y='count', x=medio_transporteImp.index)"
   ]
  },
  {
   "cell_type": "markdown",
   "id": "8befe61c",
   "metadata": {},
   "source": [
    "# Valor total de importaciones y exportaciones"
   ]
  },
  {
   "cell_type": "code",
   "execution_count": 79,
   "id": "b5874312",
   "metadata": {},
   "outputs": [],
   "source": [
    "# Agrupamos por `direction`\n",
    "paisValor_exp = synergyDF.groupby(['direction','origin']).sum()\n",
    "paisValor_exp = paisValor.sort_values(by=['total_value'], ascending=False)\n",
    "\n",
    "paisValor_imp = synergyDF.groupby(['direction','destination']).sum()\n",
    "paisValor_imp = paisValor.sort_values(by=['total_value'], ascending=False)\n",
    "\n",
    "# Separamos en dos df\n",
    "expPaisValor = paisValor_exp.xs('Exports')\n",
    "impPaisValor = paisValor_imp.xs('Imports')"
   ]
  },
  {
   "cell_type": "code",
   "execution_count": 80,
   "id": "afb174c3",
   "metadata": {},
   "outputs": [
    {
     "name": "stderr",
     "output_type": "stream",
     "text": [
      "<ipython-input-80-d0fc935600f4>:1: SettingWithCopyWarning: \n",
      "A value is trying to be set on a copy of a slice from a DataFrame.\n",
      "Try using .loc[row_indexer,col_indexer] = value instead\n",
      "\n",
      "See the caveats in the documentation: https://pandas.pydata.org/pandas-docs/stable/user_guide/indexing.html#returning-a-view-versus-a-copy\n",
      "  expPaisValor['porcentaje_acumulado'] = 100 * (expPaisValor.total_value.cumsum() / expPaisValor.total_value.sum())\n"
     ]
    },
    {
     "data": {
      "text/html": [
       "<div>\n",
       "<style scoped>\n",
       "    .dataframe tbody tr th:only-of-type {\n",
       "        vertical-align: middle;\n",
       "    }\n",
       "\n",
       "    .dataframe tbody tr th {\n",
       "        vertical-align: top;\n",
       "    }\n",
       "\n",
       "    .dataframe thead th {\n",
       "        text-align: right;\n",
       "    }\n",
       "</style>\n",
       "<table border=\"1\" class=\"dataframe\">\n",
       "  <thead>\n",
       "    <tr style=\"text-align: right;\">\n",
       "      <th></th>\n",
       "      <th>year</th>\n",
       "      <th>total_value</th>\n",
       "      <th>porcentaje_acumulado</th>\n",
       "    </tr>\n",
       "    <tr>\n",
       "      <th>origin</th>\n",
       "      <th></th>\n",
       "      <th></th>\n",
       "      <th></th>\n",
       "    </tr>\n",
       "  </thead>\n",
       "  <tbody>\n",
       "    <tr>\n",
       "      <th>China</th>\n",
       "      <td>3343248</td>\n",
       "      <td>32977046000</td>\n",
       "      <td>20.589640</td>\n",
       "    </tr>\n",
       "    <tr>\n",
       "      <th>France</th>\n",
       "      <td>1854137</td>\n",
       "      <td>18614332000</td>\n",
       "      <td>32.211736</td>\n",
       "    </tr>\n",
       "    <tr>\n",
       "      <th>USA</th>\n",
       "      <td>2953071</td>\n",
       "      <td>18355306000</td>\n",
       "      <td>43.672105</td>\n",
       "    </tr>\n",
       "    <tr>\n",
       "      <th>South Korea</th>\n",
       "      <td>2287853</td>\n",
       "      <td>14621146000</td>\n",
       "      <td>52.801004</td>\n",
       "    </tr>\n",
       "    <tr>\n",
       "      <th>Russia</th>\n",
       "      <td>1545745</td>\n",
       "      <td>13223000000</td>\n",
       "      <td>61.056953</td>\n",
       "    </tr>\n",
       "    <tr>\n",
       "      <th>Japan</th>\n",
       "      <td>2535907</td>\n",
       "      <td>11948976000</td>\n",
       "      <td>68.517449</td>\n",
       "    </tr>\n",
       "    <tr>\n",
       "      <th>Germany</th>\n",
       "      <td>2612813</td>\n",
       "      <td>11343233000</td>\n",
       "      <td>75.599741</td>\n",
       "    </tr>\n",
       "  </tbody>\n",
       "</table>\n",
       "</div>"
      ],
      "text/plain": [
       "                year  total_value  porcentaje_acumulado\n",
       "origin                                                 \n",
       "China        3343248  32977046000             20.589640\n",
       "France       1854137  18614332000             32.211736\n",
       "USA          2953071  18355306000             43.672105\n",
       "South Korea  2287853  14621146000             52.801004\n",
       "Russia       1545745  13223000000             61.056953\n",
       "Japan        2535907  11948976000             68.517449\n",
       "Germany      2612813  11343233000             75.599741"
      ]
     },
     "execution_count": 80,
     "metadata": {},
     "output_type": "execute_result"
    }
   ],
   "source": [
    "expPaisValor['porcentaje_acumulado'] = 100 * (expPaisValor.total_value.cumsum() / expPaisValor.total_value.sum())\n",
    "\n",
    "top_80_exp = expPaisValor[expPaisValor[\"porcentaje_acumulado\"] < 80]\n",
    "top_80_exp"
   ]
  },
  {
   "cell_type": "code",
   "execution_count": 81,
   "id": "14f8933a",
   "metadata": {},
   "outputs": [
    {
     "data": {
      "text/plain": [
       "<AxesSubplot:xlabel='origin', ylabel='porcentaje_acumulado'>"
      ]
     },
     "execution_count": 81,
     "metadata": {},
     "output_type": "execute_result"
    },
    {
     "data": {
      "image/png": "[encoded data removed]",
      "text/plain": [
       "<Figure size 1296x432 with 1 Axes>"
      ]
     },
     "metadata": {},
     "output_type": "display_data"
    }
   ],
   "source": [
    "sns.set(rc={\"figure.figsize\": (18, 6)})  #width=8, height=4\n",
    "sns.barplot(data=top_80_exp, y='porcentaje_acumulado',x=top_80_exp.index)"
   ]
  },
  {
   "cell_type": "code",
   "execution_count": 85,
   "id": "5a6a6765",
   "metadata": {},
   "outputs": [
    {
     "name": "stderr",
     "output_type": "stream",
     "text": [
      "<ipython-input-85-ac9d5000e37d>:1: SettingWithCopyWarning: \n",
      "A value is trying to be set on a copy of a slice from a DataFrame.\n",
      "Try using .loc[row_indexer,col_indexer] = value instead\n",
      "\n",
      "See the caveats in the documentation: https://pandas.pydata.org/pandas-docs/stable/user_guide/indexing.html#returning-a-view-versus-a-copy\n",
      "  impPaisValor['porcentaje_acumulado'] = 100 * (impPaisValor.total_value.cumsum() / impPaisValor.total_value.sum())\n"
     ]
    },
    {
     "data": {
      "text/html": [
       "<div>\n",
       "<style scoped>\n",
       "    .dataframe tbody tr th:only-of-type {\n",
       "        vertical-align: middle;\n",
       "    }\n",
       "\n",
       "    .dataframe tbody tr th {\n",
       "        vertical-align: top;\n",
       "    }\n",
       "\n",
       "    .dataframe thead th {\n",
       "        text-align: right;\n",
       "    }\n",
       "</style>\n",
       "<table border=\"1\" class=\"dataframe\">\n",
       "  <thead>\n",
       "    <tr style=\"text-align: right;\">\n",
       "      <th></th>\n",
       "      <th>year</th>\n",
       "      <th>total_value</th>\n",
       "      <th>porcentaje_acumulado</th>\n",
       "    </tr>\n",
       "    <tr>\n",
       "      <th>origin</th>\n",
       "      <th></th>\n",
       "      <th></th>\n",
       "      <th></th>\n",
       "    </tr>\n",
       "  </thead>\n",
       "  <tbody>\n",
       "    <tr>\n",
       "      <th>China</th>\n",
       "      <td>1240848</td>\n",
       "      <td>12233000000</td>\n",
       "      <td>22.030327</td>\n",
       "    </tr>\n",
       "    <tr>\n",
       "      <th>Japan</th>\n",
       "      <td>897766</td>\n",
       "      <td>8094000000</td>\n",
       "      <td>36.606757</td>\n",
       "    </tr>\n",
       "    <tr>\n",
       "      <th>USA</th>\n",
       "      <td>758592</td>\n",
       "      <td>5291000000</td>\n",
       "      <td>46.135283</td>\n",
       "    </tr>\n",
       "    <tr>\n",
       "      <th>Mexico</th>\n",
       "      <td>738306</td>\n",
       "      <td>4621000000</td>\n",
       "      <td>54.457211</td>\n",
       "    </tr>\n",
       "    <tr>\n",
       "      <th>Germany</th>\n",
       "      <td>744786</td>\n",
       "      <td>4250000000</td>\n",
       "      <td>62.111007</td>\n",
       "    </tr>\n",
       "    <tr>\n",
       "      <th>Singapore</th>\n",
       "      <td>550813</td>\n",
       "      <td>4017000000</td>\n",
       "      <td>69.345195</td>\n",
       "    </tr>\n",
       "    <tr>\n",
       "      <th>South Korea</th>\n",
       "      <td>324757</td>\n",
       "      <td>3889000000</td>\n",
       "      <td>76.348869</td>\n",
       "    </tr>\n",
       "  </tbody>\n",
       "</table>\n",
       "</div>"
      ],
      "text/plain": [
       "                year  total_value  porcentaje_acumulado\n",
       "origin                                                 \n",
       "China        1240848  12233000000             22.030327\n",
       "Japan         897766   8094000000             36.606757\n",
       "USA           758592   5291000000             46.135283\n",
       "Mexico        738306   4621000000             54.457211\n",
       "Germany       744786   4250000000             62.111007\n",
       "Singapore     550813   4017000000             69.345195\n",
       "South Korea   324757   3889000000             76.348869"
      ]
     },
     "execution_count": 85,
     "metadata": {},
     "output_type": "execute_result"
    }
   ],
   "source": [
    "impPaisValor['porcentaje_acumulado'] = 100 * (impPaisValor.total_value.cumsum() / impPaisValor.total_value.sum())\n",
    "\n",
    "top_80_imp = impPaisValor[impPaisValor['porcentaje_acumulado'] < 80]\n",
    "top_80_imp"
   ]
  },
  {
   "cell_type": "code",
   "execution_count": 86,
   "id": "7e8c8a8a",
   "metadata": {},
   "outputs": [
    {
     "data": {
      "text/plain": [
       "<AxesSubplot:xlabel='origin', ylabel='porcentaje_acumulado'>"
      ]
     },
     "execution_count": 86,
     "metadata": {},
     "output_type": "execute_result"
    },
    {
     "data": {
      "image/png": "[encoded data removed]",
      "text/plain": [
       "<Figure size 1296x432 with 1 Axes>"
      ]
     },
     "metadata": {},
     "output_type": "display_data"
    }
   ],
   "source": [
    "sns.set(rc={\"figure.figsize\": (18, 6)})  #width=8, height=4\n",
    "sns.barplot(data=top_80_imp, y='porcentaje_acumulado',x=top_80_imp.index)"
   ]
  },
  {
   "cell_type": "code",
   "execution_count": null,
   "id": "d3933762",
   "metadata": {},
   "outputs": [],
   "source": []
  }
 ],
 "metadata": {
  "kernelspec": {
   "display_name": "Python 3",
   "language": "python",
   "name": "python3"
  },
  "language_info": {
   "codemirror_mode": {
    "name": "ipython",
    "version": 3
   },
   "file_extension": ".py",
   "mimetype": "text/x-python",
   "name": "python",
   "nbconvert_exporter": "python",
   "pygments_lexer": "ipython3",
   "version": "3.8.8"
  }
 },
 "nbformat": 4,
 "nbformat_minor": 5
}
